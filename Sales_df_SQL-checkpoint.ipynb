{
 "cells": [
  {
   "cell_type": "markdown",
   "id": "ee82e1ef-31fa-4411-a95f-3e2a52e80a25",
   "metadata": {},
   "source": [
    "# Phone Sales Analysis Project"
   ]
  },
  {
   "cell_type": "code",
   "execution_count": 1,
   "id": "dc9d74e2-eb02-40f4-844e-30935d31d6a1",
   "metadata": {},
   "outputs": [
    {
     "data": {
      "text/html": [
       "<div>\n",
       "<style scoped>\n",
       "    .dataframe tbody tr th:only-of-type {\n",
       "        vertical-align: middle;\n",
       "    }\n",
       "\n",
       "    .dataframe tbody tr th {\n",
       "        vertical-align: top;\n",
       "    }\n",
       "\n",
       "    .dataframe thead th {\n",
       "        text-align: right;\n",
       "    }\n",
       "</style>\n",
       "<table border=\"1\" class=\"dataframe\">\n",
       "  <thead>\n",
       "    <tr style=\"text-align: right;\">\n",
       "      <th></th>\n",
       "      <th>Brands</th>\n",
       "      <th>Models</th>\n",
       "      <th>Colors</th>\n",
       "      <th>Memory</th>\n",
       "      <th>Storage</th>\n",
       "      <th>Camera</th>\n",
       "      <th>Rating</th>\n",
       "      <th>Selling Price</th>\n",
       "      <th>Original Price</th>\n",
       "      <th>Mobile</th>\n",
       "      <th>Discount</th>\n",
       "      <th>discount percentage</th>\n",
       "    </tr>\n",
       "  </thead>\n",
       "  <tbody>\n",
       "    <tr>\n",
       "      <th>0</th>\n",
       "      <td>SAMSUNG</td>\n",
       "      <td>GALAXY M31S</td>\n",
       "      <td>Mirage Black</td>\n",
       "      <td>8 GB</td>\n",
       "      <td>128 GB</td>\n",
       "      <td>Yes</td>\n",
       "      <td>4.3</td>\n",
       "      <td>19330</td>\n",
       "      <td>20999</td>\n",
       "      <td>SAMSUNG GALAXY M31S</td>\n",
       "      <td>1669</td>\n",
       "      <td>7.947998</td>\n",
       "    </tr>\n",
       "    <tr>\n",
       "      <th>1</th>\n",
       "      <td>Nokia</td>\n",
       "      <td>3.2</td>\n",
       "      <td>Steel</td>\n",
       "      <td>2 GB</td>\n",
       "      <td>16 GB</td>\n",
       "      <td>Yes</td>\n",
       "      <td>3.8</td>\n",
       "      <td>10199</td>\n",
       "      <td>10199</td>\n",
       "      <td>Nokia 3.2</td>\n",
       "      <td>0</td>\n",
       "      <td>0.000000</td>\n",
       "    </tr>\n",
       "    <tr>\n",
       "      <th>2</th>\n",
       "      <td>realme</td>\n",
       "      <td>C2</td>\n",
       "      <td>Diamond Black</td>\n",
       "      <td>2 GB</td>\n",
       "      <td>NaN</td>\n",
       "      <td>Yes</td>\n",
       "      <td>4.4</td>\n",
       "      <td>6999</td>\n",
       "      <td>7999</td>\n",
       "      <td>realme C2</td>\n",
       "      <td>1000</td>\n",
       "      <td>12.501563</td>\n",
       "    </tr>\n",
       "    <tr>\n",
       "      <th>3</th>\n",
       "      <td>Infinix</td>\n",
       "      <td>Note 5</td>\n",
       "      <td>Ice Blue</td>\n",
       "      <td>4 GB</td>\n",
       "      <td>64 GB</td>\n",
       "      <td>Yes</td>\n",
       "      <td>4.2</td>\n",
       "      <td>12999</td>\n",
       "      <td>12999</td>\n",
       "      <td>Infinix Note 5</td>\n",
       "      <td>0</td>\n",
       "      <td>0.000000</td>\n",
       "    </tr>\n",
       "    <tr>\n",
       "      <th>4</th>\n",
       "      <td>Apple</td>\n",
       "      <td>iPhone 11</td>\n",
       "      <td>Black</td>\n",
       "      <td>4GB</td>\n",
       "      <td>64 GB</td>\n",
       "      <td>Yes</td>\n",
       "      <td>4.6</td>\n",
       "      <td>49900</td>\n",
       "      <td>49900</td>\n",
       "      <td>Apple iPhone 11</td>\n",
       "      <td>0</td>\n",
       "      <td>0.000000</td>\n",
       "    </tr>\n",
       "  </tbody>\n",
       "</table>\n",
       "</div>"
      ],
      "text/plain": [
       "    Brands        Models         Colors Memory Storage Camera  Rating  \\\n",
       "0  SAMSUNG  GALAXY M31S    Mirage Black   8 GB  128 GB    Yes     4.3   \n",
       "1    Nokia           3.2          Steel   2 GB   16 GB    Yes     3.8   \n",
       "2   realme           C2   Diamond Black   2 GB     NaN    Yes     4.4   \n",
       "3  Infinix        Note 5       Ice Blue   4 GB   64 GB    Yes     4.2   \n",
       "4    Apple    iPhone 11           Black    4GB   64 GB    Yes     4.6   \n",
       "\n",
       "   Selling Price  Original Price                Mobile  Discount  \\\n",
       "0          19330           20999  SAMSUNG GALAXY M31S       1669   \n",
       "1          10199           10199             Nokia 3.2         0   \n",
       "2           6999            7999            realme C2       1000   \n",
       "3          12999           12999        Infinix Note 5         0   \n",
       "4          49900           49900      Apple iPhone 11          0   \n",
       "\n",
       "   discount percentage  \n",
       "0             7.947998  \n",
       "1             0.000000  \n",
       "2            12.501563  \n",
       "3             0.000000  \n",
       "4             0.000000  "
      ]
     },
     "execution_count": 1,
     "metadata": {},
     "output_type": "execute_result"
    }
   ],
   "source": [
    "import pandas as pd\n",
    "df = pd.read_csv()\n",
    "df.head()"
   ]
  },
  {
   "cell_type": "code",
   "execution_count": 11,
   "id": "9d906f78-1e06-4858-9767-77a4da0da415",
   "metadata": {},
   "outputs": [],
   "source": [
    "import os\n",
    "\n",
    "data_file = os.path.join(os.environ.get('DATA_DIR'), 'Sales.csv')"
   ]
  },
  {
   "cell_type": "code",
   "execution_count": 3,
   "id": "6de060bc-fcf6-43a5-bdbb-0a02b8fcdbc7",
   "metadata": {},
   "outputs": [
    {
     "name": "stdout",
     "output_type": "stream",
     "text": [
      "<class 'pandas.core.frame.DataFrame'>\n",
      "RangeIndex: 3114 entries, 0 to 3113\n",
      "Data columns (total 12 columns):\n",
      " #   Column               Non-Null Count  Dtype  \n",
      "---  ------               --------------  -----  \n",
      " 0   Brands               3114 non-null   object \n",
      " 1   Models               3114 non-null   object \n",
      " 2   Colors               3114 non-null   object \n",
      " 3   Memory               3071 non-null   object \n",
      " 4   Storage              3075 non-null   object \n",
      " 5   Camera               3114 non-null   object \n",
      " 6   Rating               2970 non-null   float64\n",
      " 7   Selling Price        3114 non-null   int64  \n",
      " 8   Original Price       3114 non-null   int64  \n",
      " 9   Mobile               3114 non-null   object \n",
      " 10  Discount             3114 non-null   int64  \n",
      " 11  discount percentage  3114 non-null   float64\n",
      "dtypes: float64(2), int64(3), object(7)\n",
      "memory usage: 292.1+ KB\n"
     ]
    }
   ],
   "source": [
    "df.info()"
   ]
  },
  {
   "cell_type": "code",
   "execution_count": 4,
   "id": "0f3d2e88-ce55-4355-b6bf-f1c1db2cb644",
   "metadata": {},
   "outputs": [
    {
     "data": {
      "text/html": [
       "<div>\n",
       "<style scoped>\n",
       "    .dataframe tbody tr th:only-of-type {\n",
       "        vertical-align: middle;\n",
       "    }\n",
       "\n",
       "    .dataframe tbody tr th {\n",
       "        vertical-align: top;\n",
       "    }\n",
       "\n",
       "    .dataframe thead th {\n",
       "        text-align: right;\n",
       "    }\n",
       "</style>\n",
       "<table border=\"1\" class=\"dataframe\">\n",
       "  <thead>\n",
       "    <tr style=\"text-align: right;\">\n",
       "      <th></th>\n",
       "      <th>Rating</th>\n",
       "      <th>Selling Price</th>\n",
       "      <th>Original Price</th>\n",
       "      <th>Discount</th>\n",
       "      <th>discount percentage</th>\n",
       "    </tr>\n",
       "  </thead>\n",
       "  <tbody>\n",
       "    <tr>\n",
       "      <th>count</th>\n",
       "      <td>2970.000000</td>\n",
       "      <td>3114.000000</td>\n",
       "      <td>3114.000000</td>\n",
       "      <td>3114.000000</td>\n",
       "      <td>3114.000000</td>\n",
       "    </tr>\n",
       "    <tr>\n",
       "      <th>mean</th>\n",
       "      <td>4.243098</td>\n",
       "      <td>26436.625562</td>\n",
       "      <td>28333.473025</td>\n",
       "      <td>1896.847463</td>\n",
       "      <td>6.086788</td>\n",
       "    </tr>\n",
       "    <tr>\n",
       "      <th>std</th>\n",
       "      <td>0.271991</td>\n",
       "      <td>30066.892622</td>\n",
       "      <td>31525.599889</td>\n",
       "      <td>5337.126176</td>\n",
       "      <td>11.106776</td>\n",
       "    </tr>\n",
       "    <tr>\n",
       "      <th>min</th>\n",
       "      <td>2.300000</td>\n",
       "      <td>1000.000000</td>\n",
       "      <td>1000.000000</td>\n",
       "      <td>-8000.000000</td>\n",
       "      <td>-160.320641</td>\n",
       "    </tr>\n",
       "    <tr>\n",
       "      <th>25%</th>\n",
       "      <td>4.100000</td>\n",
       "      <td>9990.000000</td>\n",
       "      <td>10030.250000</td>\n",
       "      <td>0.000000</td>\n",
       "      <td>0.000000</td>\n",
       "    </tr>\n",
       "    <tr>\n",
       "      <th>50%</th>\n",
       "      <td>4.300000</td>\n",
       "      <td>15000.000000</td>\n",
       "      <td>16889.500000</td>\n",
       "      <td>0.000000</td>\n",
       "      <td>0.000000</td>\n",
       "    </tr>\n",
       "    <tr>\n",
       "      <th>75%</th>\n",
       "      <td>4.400000</td>\n",
       "      <td>28999.000000</td>\n",
       "      <td>31500.000000</td>\n",
       "      <td>2000.000000</td>\n",
       "      <td>9.836388</td>\n",
       "    </tr>\n",
       "    <tr>\n",
       "      <th>max</th>\n",
       "      <td>5.000000</td>\n",
       "      <td>179900.000000</td>\n",
       "      <td>189999.000000</td>\n",
       "      <td>75000.000000</td>\n",
       "      <td>70.610305</td>\n",
       "    </tr>\n",
       "  </tbody>\n",
       "</table>\n",
       "</div>"
      ],
      "text/plain": [
       "            Rating  Selling Price  Original Price      Discount  \\\n",
       "count  2970.000000    3114.000000     3114.000000   3114.000000   \n",
       "mean      4.243098   26436.625562    28333.473025   1896.847463   \n",
       "std       0.271991   30066.892622    31525.599889   5337.126176   \n",
       "min       2.300000    1000.000000     1000.000000  -8000.000000   \n",
       "25%       4.100000    9990.000000    10030.250000      0.000000   \n",
       "50%       4.300000   15000.000000    16889.500000      0.000000   \n",
       "75%       4.400000   28999.000000    31500.000000   2000.000000   \n",
       "max       5.000000  179900.000000   189999.000000  75000.000000   \n",
       "\n",
       "       discount percentage  \n",
       "count          3114.000000  \n",
       "mean              6.086788  \n",
       "std              11.106776  \n",
       "min            -160.320641  \n",
       "25%               0.000000  \n",
       "50%               0.000000  \n",
       "75%               9.836388  \n",
       "max              70.610305  "
      ]
     },
     "execution_count": 4,
     "metadata": {},
     "output_type": "execute_result"
    }
   ],
   "source": [
    "df.describe()"
   ]
  },
  {
   "cell_type": "code",
   "execution_count": 5,
   "id": "ffa050fb-fe55-411d-bb46-a290b9c0c298",
   "metadata": {},
   "outputs": [
    {
     "data": {
      "text/plain": [
       "Brands                   0\n",
       "Models                   0\n",
       "Colors                   0\n",
       "Memory                  43\n",
       "Storage                 39\n",
       "Camera                   0\n",
       "Rating                 144\n",
       "Selling Price            0\n",
       "Original Price           0\n",
       "Mobile                   0\n",
       "Discount                 0\n",
       "discount percentage      0\n",
       "dtype: int64"
      ]
     },
     "execution_count": 5,
     "metadata": {},
     "output_type": "execute_result"
    }
   ],
   "source": [
    "df.isnull().sum()"
   ]
  },
  {
   "cell_type": "markdown",
   "id": "605c6c3b-2246-4da2-a6be-0ff9b174dd9c",
   "metadata": {},
   "source": [
    "# PostgreSQL Connection/Integration and General Analysis"
   ]
  },
  {
   "cell_type": "code",
   "execution_count": 6,
   "id": "e72e301a-6761-4dc2-8331-1f9d369efb57",
   "metadata": {},
   "outputs": [],
   "source": []
  },
  {
   "cell_type": "code",
   "execution_count": 7,
   "id": "826b9021-5e47-4e11-ac7f-1a17f98616ef",
   "metadata": {},
   "outputs": [
    {
     "ename": "NameError",
     "evalue": "name 'cursor' is not defined",
     "output_type": "error",
     "traceback": [
      "\u001b[1;31m---------------------------------------------------------------------------\u001b[0m",
      "\u001b[1;31mNameError\u001b[0m                                 Traceback (most recent call last)",
      "Cell \u001b[1;32mIn[7], line 5\u001b[0m\n\u001b[0;32m      1\u001b[0m query \u001b[38;5;241m=\u001b[39m \u001b[38;5;124m\"\"\"\u001b[39m\u001b[38;5;124mSelect is_smartphone, \u001b[39m\n\u001b[0;32m      2\u001b[0m \u001b[38;5;124mCount(*) as count\u001b[39m\n\u001b[0;32m      3\u001b[0m \u001b[38;5;124mfrom sales\u001b[39m\n\u001b[0;32m      4\u001b[0m \u001b[38;5;124mgroup by is_smartphone;\u001b[39m\u001b[38;5;124m\"\"\"\u001b[39m\n\u001b[1;32m----> 5\u001b[0m \u001b[43mcursor\u001b[49m\u001b[38;5;241m.\u001b[39mexecute(query)\n\u001b[0;32m      6\u001b[0m results \u001b[38;5;241m=\u001b[39m cursor\u001b[38;5;241m.\u001b[39mfetchall()\n\u001b[0;32m      7\u001b[0m cursor\u001b[38;5;241m.\u001b[39mclose()\n",
      "\u001b[1;31mNameError\u001b[0m: name 'cursor' is not defined"
     ]
    }
   ],
   "source": [
    "query = \"\"\"Select is_smartphone, \n",
    "Count(*) as count\n",
    "from sales\n",
    "group by is_smartphone;\"\"\"\n",
    "cursor.execute(query)\n",
    "results = cursor.fetchall()\n",
    "cursor.close()\n",
    "connection.close()"
   ]
  },
  {
   "cell_type": "code",
   "execution_count": null,
   "id": "15aa0c08-3bd1-4151-9e50-a6d1852e79de",
   "metadata": {},
   "outputs": [],
   "source": [
    "import numpy as np\n",
    "total_count = sum(count for _, count in results)\n",
    "percentages = [(label, count/total_count * 100) for label, count in results]\n",
    "print(percentages)\n",
    "percentages = np.round(percentages, 2)\n",
    "print(total_count)\n",
    "print(percentages)"
   ]
  },
  {
   "cell_type": "code",
   "execution_count": null,
   "id": "db2bbfcd-c90e-4b61-b68d-544f34c41518",
   "metadata": {},
   "outputs": [],
   "source": [
    "import matplotlib.pyplot as plt\n",
    "labels, values = zip(*percentages)\n",
    "plt.figure()\n",
    "plt.pie(values, labels=labels, autopct='%1.1f%%', explode = (0, 0.1))\n",
    "plt.title('Distribution of smartphones vs non-smartphones')\n",
    "plt.axis('equal')\n",
    "plt.show()"
   ]
  },
  {
   "cell_type": "markdown",
   "id": "08c735eb-ca6a-451d-8ee0-3871c4c01de4",
   "metadata": {},
   "source": [
    "**Analysis**\n",
    "- Since 99.8% of the data are smartphones, \n",
    "this does not seem like a topic that is \n",
    "primed for data analysis \n",
    "- More feature enginerring may be necessary."
   ]
  },
  {
   "cell_type": "code",
   "execution_count": null,
   "id": "514e2810-e9b0-48aa-805d-f78783c78848",
   "metadata": {},
   "outputs": [],
   "source": [
    "try:\n",
    "    connection = psycopg2.connect(**connection_params)\n",
    "    cursor = connection.cursor()\n",
    "    print(\"Reconnected to PostgreSQL\")\n",
    "\n",
    "except (Exception, psycopg2.Error) as error:\n",
    "    print(\"Error reconnecting to PostgreSQL:\", error)"
   ]
  },
  {
   "cell_type": "code",
   "execution_count": null,
   "id": "583793b2-187c-4213-8ff9-66c8f3018987",
   "metadata": {},
   "outputs": [],
   "source": [
    "query = \"\"\"Select distinct brands from sales;\"\"\"\n",
    "cursor.execute(query)\n",
    "rows = cursor.fetchall()\n",
    "for row in rows:\n",
    "    print(row)"
   ]
  },
  {
   "cell_type": "code",
   "execution_count": null,
   "id": "92d185f6-b76d-4623-bf77-a4140a133874",
   "metadata": {},
   "outputs": [],
   "source": [
    "query = \"\"\"Select brands, Avg(Selling_Price) as Avg_Selling_Price \n",
    "from sales\n",
    "group by brands\"\"\"\n",
    "cursor.execute(query)\n",
    "rows = cursor.fetchall()\n",
    "for row in rows:\n",
    "    print(row)"
   ]
  },
  {
   "cell_type": "code",
   "execution_count": null,
   "id": "fb7f50f8-8c4a-42ca-b296-608e1a9da406",
   "metadata": {},
   "outputs": [],
   "source": [
    "cursor.close()\n",
    "connection.close()"
   ]
  },
  {
   "cell_type": "code",
   "execution_count": null,
   "id": "bc375977-8f28-438f-b510-ca590c8d3cb4",
   "metadata": {},
   "outputs": [],
   "source": [
    "try:\n",
    "    connection = psycopg2.connect(**connection_params)\n",
    "    cursor = connection.cursor()\n",
    "    print(\"Reconnected to PostgreSQL\")\n",
    "\n",
    "except (Exception, psycopg2.Error) as error:\n",
    "    print(\"Error reconnecting to PostgreSQL:\", error)"
   ]
  },
  {
   "cell_type": "code",
   "execution_count": null,
   "id": "b7a7a21e-a8c1-4453-a71e-1ce98fe9a10d",
   "metadata": {},
   "outputs": [],
   "source": [
    "query = \"\"\" Select brands, Avg(Original_Price) as Avg_Original_Price\n",
    "from sales\n",
    "group by brands\"\"\"\n",
    "cursor.execute(query)\n",
    "rows = cursor.fetchall()\n",
    "for row in rows:\n",
    "    print(row)"
   ]
  },
  {
   "cell_type": "code",
   "execution_count": null,
   "id": "e54fa878-edc9-40f5-8eae-e8f1d2c93da1",
   "metadata": {},
   "outputs": [],
   "source": [
    "query = \"\"\" Select brands, Avg(Selling_Price) as Avg_Selling_Price, Avg(Original_Price) as Avg_Original_Price\n",
    "from sales\n",
    "group by brands\"\"\"\n",
    "cursor.execute(query)\n",
    "rows = cursor.fetchall()\n",
    "for row in rows:\n",
    "    print(row)"
   ]
  },
  {
   "cell_type": "code",
   "execution_count": null,
   "id": "c446a6e4-f487-4502-94bb-fb2f53ab9651",
   "metadata": {},
   "outputs": [],
   "source": [
    "import seaborn as sns\n",
    "price_df = pd.DataFrame(rows, columns = ['Brand', 'Avg_Selling_Price', 'Avg_Original_Price'])\n",
    "plt.figure(figsize=(10, 6))\n",
    "sns.barplot(data=price_df, x='Brand', y='Avg_Selling_Price', color='red', label='Average Selling Price')\n",
    "sns.barplot(data=price_df, x='Brand', y='Avg_Original_Price', color='orange', alpha=0.5, label='Average Original Price')\n",
    "plt.title('Average Selling Price and Average Original Price by Brand')\n",
    "plt.xlabel('Brand')\n",
    "plt.ylabel('Price')\n",
    "plt.xticks(rotation=45)\n",
    "plt.legend()\n",
    "plt.tight_layout()\n",
    "plt.show()\n"
   ]
  },
  {
   "cell_type": "markdown",
   "id": "984325fd-bb86-4878-a131-72cb372200a7",
   "metadata": {},
   "source": [
    "**Analysis**\n",
    "- Both Apple and Google Pixel have by far the highest average\n",
    "selling and original price of their mobile devices."
   ]
  },
  {
   "cell_type": "markdown",
   "id": "84e624bb-0d4f-40f5-b593-eafa0f1775c9",
   "metadata": {},
   "source": [
    "# Color Analysis"
   ]
  },
  {
   "cell_type": "code",
   "execution_count": null,
   "id": "9dc7ac47-1b03-48dd-aa42-210bb8694178",
   "metadata": {
    "scrolled": true
   },
   "outputs": [],
   "source": [
    "query = \"\"\" Select brands, models, colors, Count(*) as total_sales\n",
    "from sales\n",
    "group by brands, models, colors;\"\"\"\n",
    "cursor.execute(query)\n",
    "rows = cursor.fetchall()\n",
    "for row in rows:\n",
    "    print(row)"
   ]
  },
  {
   "cell_type": "code",
   "execution_count": null,
   "id": "be290744-2ce6-49c4-b0bf-f2bec1315ce9",
   "metadata": {},
   "outputs": [],
   "source": [
    "colors_df = pd.DataFrame(rows, columns=['brands','models', 'colors', 'total_sales'])\n",
    "print(colors_df.head())"
   ]
  },
  {
   "cell_type": "code",
   "execution_count": null,
   "id": "0c6b661d-f125-4a34-869a-9a2a41f75562",
   "metadata": {},
   "outputs": [],
   "source": [
    "colors_df['phone'] = colors_df['brands'].astype(str) + ' ' + colors_df['models']\n",
    "print(colors_df.head())"
   ]
  },
  {
   "cell_type": "code",
   "execution_count": null,
   "id": "f4cb6489-8e02-4e7d-bede-bd1be83b2b95",
   "metadata": {
    "scrolled": true
   },
   "outputs": [],
   "source": [
    "grouped_colors_df = colors_df.groupby('total_sales')\n",
    "for total_sales, group in grouped_colors_df:\n",
    "    print(f\"Total Sales: {total_sales}\")\n",
    "    print(group.head())\n",
    "    print()"
   ]
  },
  {
   "cell_type": "code",
   "execution_count": null,
   "id": "4c5148db-bb36-494c-820f-27d38647df17",
   "metadata": {},
   "outputs": [],
   "source": [
    "colors_df['total_sales']"
   ]
  },
  {
   "cell_type": "markdown",
   "id": "3242b8f6-7a58-4383-a85f-1eb23f0b6e5f",
   "metadata": {},
   "source": [
    "**Color Analysis**\n",
    "- At the moment, there are way too many different color options\n",
    "- To handle this, we are going to create an open dictionary\n",
    "where we will store base colors\n",
    "- We will then take those base colors and use them as our new\n",
    "variable of measure"
   ]
  },
  {
   "cell_type": "code",
   "execution_count": null,
   "id": "c6e23636-75eb-4203-bda9-8250d9d1ba75",
   "metadata": {
    "scrolled": true
   },
   "outputs": [],
   "source": [
    "color_mapping = {}\n",
    "def find_base_color(color_name):\n",
    "    for base_color in color_mapping.keys():\n",
    "        if base_color.lower() in color_name.lower():\n",
    "            return base_color\n",
    "    return color_name\n",
    "\n",
    "for color in colors_df['colors'].unique():\n",
    "    base_color = find_base_color(color)\n",
    "    if base_color not in color_mapping:\n",
    "        color_mapping[base_color] = []\n",
    "    if color != base_color and color not in color_mapping:\n",
    "        color_mapping[base_color].append(color)\n",
    "\n",
    "for base_color, variations in color_mapping.items():\n",
    "    print(f\"Base Color: {base_color}, Variations: {variations}\")\n",
    "    "
   ]
  },
  {
   "cell_type": "code",
   "execution_count": null,
   "id": "5cb7ed22-a0cc-4d81-8415-3cbe09403ca0",
   "metadata": {
    "scrolled": true
   },
   "outputs": [],
   "source": [
    "new_color_mapping = {}\n",
    "colors_to_remove = []\n",
    "for base_color, variations in list(color_mapping.items()):\n",
    "    if ' ' in base_color:\n",
    "        words = base_color.split()\n",
    "        for word in words:\n",
    "             if word.lower() in [base.lower() for base in color_mapping.keys()]:\n",
    "                 colors_to_remove.append(base_color)\n",
    "                 break\n",
    "    else:\n",
    "        new_color_mapping[base_color] = variations\n",
    "\n",
    "    for color in colors_to_remove:\n",
    "        if color in color_mapping:\n",
    "            del color_mapping[color]\n",
    "\n",
    "old_color_mapping = color_mapping.copy()\n",
    "color_mapping.update(new_color_mapping)\n",
    "\n",
    "for base_color, variations in color_mapping.items():\n",
    "    print(f\"Base Color: {base_color}, Variations: {variations}\")"
   ]
  },
  {
   "cell_type": "code",
   "execution_count": null,
   "id": "2f82c7be-3345-4469-b04e-da0a11b5ca33",
   "metadata": {},
   "outputs": [],
   "source": [
    "base_colors_list = []\n",
    "for base_color, variations in new_color_mapping.items():\n",
    "     base_colors_list.append(base_color)\n",
    "print(base_colors_list)"
   ]
  },
  {
   "cell_type": "code",
   "execution_count": null,
   "id": "df6820b7-89ad-4ddf-8a3a-5afb7e9fed19",
   "metadata": {},
   "outputs": [],
   "source": [
    "base_colors_df = colors_df.copy()\n",
    "base_colors_df['Base_Color'] = None\n",
    "for index, row in base_colors_df.iterrows():\n",
    "    color = row['colors']\n",
    "    base_color = None\n",
    "    for base_color_candidate in base_colors_list:\n",
    "        if base_color_candidate.lower() in color.lower():\n",
    "            base_color = base_color_candidate\n",
    "            break\n",
    "    base_colors_df.at[index, 'Base_Color'] = base_color\n",
    "print(base_colors_df)"
   ]
  },
  {
   "cell_type": "code",
   "execution_count": null,
   "id": "3aeaf5f2-b4c2-41bc-8b1e-49a60f797119",
   "metadata": {},
   "outputs": [],
   "source": [
    "none_count = base_colors_df['Base_Color'].apply(lambda x: x is None).sum()\n",
    "print(\"Number of 'None' values in the 'Base_Color' column:\", none_count)"
   ]
  },
  {
   "cell_type": "code",
   "execution_count": null,
   "id": "8bc53525-e1b2-42ce-b5af-6bbc21ed20ed",
   "metadata": {},
   "outputs": [],
   "source": [
    "none_rows = base_colors_df[base_colors_df['Base_Color'].isnull()]\n",
    "\n",
    "print(\"Rows where 'Base_Color' is None:\")\n",
    "print(none_rows)\n"
   ]
  },
  {
   "cell_type": "code",
   "execution_count": null,
   "id": "b9ed4f89-dd8b-4fdd-b667-8b652712f3ec",
   "metadata": {},
   "outputs": [],
   "source": [
    "for index, row in base_colors_df.iterrows():\n",
    "    color = row['colors']\n",
    "    \n",
    "    if 'Gray' in color:\n",
    "        print(\"Updating base color to 'Gray'\")\n",
    "        base_colors_df.at[index, 'Base_Color'] = 'Gray'\n",
    "print(base_colors_df)"
   ]
  },
  {
   "cell_type": "code",
   "execution_count": null,
   "id": "55d68353-8497-488d-88db-5fefcf8ae0ea",
   "metadata": {},
   "outputs": [],
   "source": [
    "gray_colors_df = base_colors_df[base_colors_df['colors'].str.contains('Gray', case=False)]\n",
    "gray_colors_df"
   ]
  },
  {
   "cell_type": "code",
   "execution_count": null,
   "id": "a6b8fd10-e3a9-4fde-8d00-03a2d54829a5",
   "metadata": {
    "scrolled": true
   },
   "outputs": [],
   "source": [
    "new_none_rows = base_colors_df[base_colors_df['Base_Color'].isnull()]\n",
    "\n",
    "print(\"Rows where 'Base_Color' is None:\")\n",
    "print(new_none_rows)"
   ]
  },
  {
   "cell_type": "code",
   "execution_count": null,
   "id": "85811dc8-0906-48d8-9fc7-64eac7d46759",
   "metadata": {},
   "outputs": [],
   "source": [
    "for index, row in base_colors_df.iterrows():\n",
    "    color = row['colors']\n",
    "    base_color = row['Base_Color']\n",
    "    if base_color is None:\n",
    "        base_colors_df.at[index, 'Base_Color'] = color\n",
    "base_colors_df['Base_Color'].isnull().sum()"
   ]
  },
  {
   "cell_type": "code",
   "execution_count": null,
   "id": "cc17a5ec-9363-47b5-8b8a-e29008aaa7af",
   "metadata": {},
   "outputs": [],
   "source": [
    "sales_by_color = base_colors_df.groupby('Base_Color')['total_sales'].sum()\n",
    "sales_by_color = sales_by_color[sales_by_color > 100]\n",
    "print(sales_by_color)"
   ]
  },
  {
   "cell_type": "code",
   "execution_count": null,
   "id": "ff532f40-bfc1-45dc-8622-55adff8bd63e",
   "metadata": {},
   "outputs": [],
   "source": [
    "total_sales_by_color = sales_by_color.sum()\n",
    "percentages = [(sales / total_sales_by_color) * 100 for sales in sales_by_color]\n",
    "\n",
    "sales_by_color_df = sales_by_color.reset_index()\n",
    "sales_by_color_df.columns = ['Base Color', 'Total Sales']\n",
    "\n",
    "color_mapping = {'Black':'black', 'Blue':'blue', 'Gold':'gold', 'Graphite':'grey', 'Gray':'gray', 'Green':'green', 'Grey':'grey', 'Pink':'pink', 'Purple':'purple', 'Red':'red', 'Silver':'silver', 'Violet':'violet', 'White':'brown', 'Yellow':'yellow'}\n",
    "\n",
    "sns.barplot(x='Base Color', y='Total Sales',hue='Base Color', data=sales_by_color_df, palette=color_mapping.values())\n",
    "\n",
    "for i, percentage in enumerate(percentages):\n",
    "    plt.text(i, sales_by_color_df['Total Sales'].iloc[i] + 1, f'{percentage:.1f}%', ha='center')\n",
    "\n",
    "plt.title('Total Sales by Base Color')\n",
    "plt.xlabel('Base Color')\n",
    "plt.ylabel('Total Sales')\n",
    "plt.xticks(rotation=45, ha='right')\n",
    "plt.tight_layout()\n",
    "plt.show()\n"
   ]
  },
  {
   "cell_type": "markdown",
   "id": "8273032c-f960-4b2d-a9f8-c0d30aac231e",
   "metadata": {},
   "source": [
    "**Total Sales By Base Color**\n",
    "- And here we see that of the major color groups,\n",
    "the best selling overall color is Black at 31.6%.\n",
    "- Many people are also purchasing Blue at 19.4%, White\n",
    "at 11.0% (shown in brown) and Gold at 10.2%"
   ]
  },
  {
   "cell_type": "markdown",
   "id": "77ecc799-a5dd-4fc5-83fa-5b459acf23b6",
   "metadata": {},
   "source": [
    "# Discount Analysis"
   ]
  },
  {
   "cell_type": "code",
   "execution_count": null,
   "id": "a3ba065b-4b01-4b53-9130-f47b376f3dfc",
   "metadata": {},
   "outputs": [],
   "source": [
    "query = '''Select discount from sales '''\n",
    "cursor.execute(query)\n",
    "discount_info = cursor.fetchall()"
   ]
  },
  {
   "cell_type": "code",
   "execution_count": null,
   "id": "3c15abe3-6c1a-46b7-8062-af4e3004a15f",
   "metadata": {},
   "outputs": [],
   "source": [
    "discount_df = pd.DataFrame(discount_info, columns=['discount'])"
   ]
  },
  {
   "cell_type": "code",
   "execution_count": null,
   "id": "0147e7fe-005c-4e42-9e55-17c223bfd7ea",
   "metadata": {},
   "outputs": [],
   "source": [
    "discount_df.info()"
   ]
  },
  {
   "cell_type": "code",
   "execution_count": null,
   "id": "688a74bc-3be0-406f-b966-449e396c2c7a",
   "metadata": {},
   "outputs": [],
   "source": [
    "discount_df.describe()"
   ]
  },
  {
   "cell_type": "code",
   "execution_count": null,
   "id": "1408bfca-c995-410f-86d4-5a0433e2d0e6",
   "metadata": {},
   "outputs": [],
   "source": [
    "discount_data=[]\n",
    "discount_df['discount'] = discount_df['discount'].astype(int)\n",
    "for discount in discount_df['discount']:\n",
    "    if discount == 0:\n",
    "        discount_data.append({'discount_bool': False})\n",
    "    elif discount > 0:\n",
    "        discount_data.append({'discount_bool': True})\n",
    "discount_df_bool = pd.DataFrame(discount_data)\n",
    "\n",
    "print(discount_df_bool)\n"
   ]
  },
  {
   "cell_type": "code",
   "execution_count": null,
   "id": "79ae727b-aaaa-44f6-b64e-3deecb078bd5",
   "metadata": {},
   "outputs": [],
   "source": [
    "count_true_false = discount_df_bool.value_counts()\n",
    "print('Number of phones purchased at discount price: ', count_true_false[True])\n",
    "print('Number of phones purchased at original price: ', count_true_false[False])      "
   ]
  },
  {
   "cell_type": "markdown",
   "id": "f2cd2097-dea3-4994-800f-1e3f0dbe0ee0",
   "metadata": {},
   "source": [
    "**Number of phones with/without discount**\n",
    "- Here we have the number of phones purchased at\n",
    "a discount price and the number of phones purchased \n",
    "at an original price.\n",
    "- What was the total amount of sales of discounted phones vs non-discounted phones? "
   ]
  },
  {
   "cell_type": "code",
   "execution_count": null,
   "id": "1b6f06b5-c0c6-441a-995a-4f9a849e8bf6",
   "metadata": {
    "scrolled": true
   },
   "outputs": [],
   "source": [
    "import warnings\n",
    "\n",
    "warnings.filterwarnings(\"ignore\", category=Warning)\n",
    "\n",
    "query = '''Select brands, models, colors, Count(*) as total_sales from sales\n",
    "group by brands, models, colors;'''\n",
    "try: \n",
    "    total_sales_df = pd.read_sql(query, connection)\n",
    "    print(total_sales_df)\n",
    "\n",
    "except:\n",
    "    print('Try Again')"
   ]
  },
  {
   "cell_type": "code",
   "execution_count": null,
   "id": "c783f52c-5cac-49a6-adef-3406d81e4240",
   "metadata": {},
   "outputs": [],
   "source": [
    "total_phone_sales = total_sales_df['total_sales']\n",
    "ts_discount_cross_tab = pd.crosstab(total_phone_sales, discount_df_bool['discount_bool'])\n",
    "ts_discount_cross_tab"
   ]
  },
  {
   "cell_type": "code",
   "execution_count": null,
   "id": "29616b8e-0e33-440f-a830-fe464d3c429d",
   "metadata": {},
   "outputs": [],
   "source": [
    "ts_discount_cross_tab.plot(kind='bar')\n",
    "plt.title('Total Sales by Discount')\n",
    "plt.xlabel('Total Sales')\n",
    "plt.ylabel('Count')\n",
    "plt.show()"
   ]
  },
  {
   "cell_type": "markdown",
   "id": "679f1609-fd86-4af0-8daf-0b8ccc306efa",
   "metadata": {},
   "source": [
    "**Total Sales By Discount**\n",
    "- There are more false values than true values, therefore\n",
    "this result is expected. What needs further analysis however\n",
    "is the ratio between how many phones at each sale point\n",
    "were sold at a discount vs how many were not\n",
    "- To figure this out, let's grab the ratio between phones\n",
    "sold at a discount and sold at regular price for each sale\n",
    "category"
   ]
  },
  {
   "cell_type": "code",
   "execution_count": null,
   "id": "0de4f4c5-28e5-4f5c-b58e-2a7872a0ed94",
   "metadata": {},
   "outputs": [],
   "source": [
    "ratios_t_f = []\n",
    "for index in ts_discount_cross_tab.index:\n",
    "    if index <= 30:\n",
    "        ratio_t_f = ts_discount_cross_tab.loc[index, True] / ts_discount_cross_tab.loc[index, False]\n",
    "        ratios_t_f.append(ratio_t_f)\n",
    "    \n",
    "ratios_series = pd.Series(ratios_t_f, index=ts_discount_cross_tab.index[ts_discount_cross_tab.index <= 30])\n",
    "print(ratios_series)"
   ]
  },
  {
   "cell_type": "code",
   "execution_count": null,
   "id": "e0eb7aef-a217-408a-a0ae-0ed337d6b013",
   "metadata": {},
   "outputs": [],
   "source": [
    "normalized_ratios = ratios_series / ratios_series.sum()\n",
    "normalized_ratios"
   ]
  },
  {
   "cell_type": "code",
   "execution_count": null,
   "id": "dc10dbd8-ddeb-43cc-985a-0e969a6d78f8",
   "metadata": {},
   "outputs": [],
   "source": [
    "ratios_series.plot(kind='bar')\n",
    "plt.title('Ratio of Discounted vs Non-Discounted Sales')\n",
    "plt.xlabel('Total Sales')\n",
    "plt.ylabel('Ratio')"
   ]
  },
  {
   "cell_type": "markdown",
   "id": "d441b1ba-bfc3-457b-ba4b-bb6fbabfb66b",
   "metadata": {},
   "source": [
    "**Ratio of Discounted vs Non-Discounted Sales**\n",
    "- As the total sales per phone increase, one can expect a decrease in ratio of phones\n",
    "discounted up until we reach the 25 mark, of which one can expect a staggering\n",
    "increase in sales.\n",
    "- This means that as the total sales per phone approaches 25, more people are buying\n",
    "phones at a discounted price\n",
    "- However this also means that at 15 and 20 total sales per phone, people are not\n",
    "purchasing phones at a discounted price"
   ]
  },
  {
   "cell_type": "markdown",
   "id": "938ea4fd-8922-4fd0-bd58-4bcb367c82d3",
   "metadata": {},
   "source": [
    "# Rating Analysis"
   ]
  },
  {
   "cell_type": "code",
   "execution_count": null,
   "id": "a1ea1936-c6bc-4f9d-9762-478822a7bf8a",
   "metadata": {},
   "outputs": [],
   "source": [
    "query = '''Select rating from sales'''\n",
    "cursor.execute(query)\n",
    "rating_info = cursor.fetchall()"
   ]
  },
  {
   "cell_type": "code",
   "execution_count": null,
   "id": "79f3f2b5-119a-4c0b-9769-157e5c4ad5f3",
   "metadata": {},
   "outputs": [],
   "source": [
    "rating_df = pd.DataFrame(rating_info, columns=['rating'])"
   ]
  },
  {
   "cell_type": "code",
   "execution_count": null,
   "id": "83ca3b2a-267b-469d-9b13-74106e0232dc",
   "metadata": {},
   "outputs": [],
   "source": [
    "rating_df.info()"
   ]
  },
  {
   "cell_type": "code",
   "execution_count": null,
   "id": "93b27190-5484-4bf9-bb4f-d609fcd67bb4",
   "metadata": {},
   "outputs": [],
   "source": [
    "rating_df.describe()"
   ]
  },
  {
   "cell_type": "code",
   "execution_count": null,
   "id": "47783395-2f20-481f-bf92-6d0e804e95d7",
   "metadata": {},
   "outputs": [],
   "source": [
    "print(\"NaN values:\", rating_df.isna().sum())\n",
    "print(\"Infinite values:\", np.isinf(rating_df).sum())"
   ]
  },
  {
   "cell_type": "code",
   "execution_count": null,
   "id": "c0c2171e-c051-4d66-b4a0-91cbf0765d32",
   "metadata": {},
   "outputs": [],
   "source": [
    "rating_df = rating_df.fillna(rating_df.mean())"
   ]
  },
  {
   "cell_type": "code",
   "execution_count": null,
   "id": "556e3ae7-d82b-409d-a5ae-34f16b69d0c9",
   "metadata": {},
   "outputs": [],
   "source": [
    "rating_df.describe()"
   ]
  },
  {
   "cell_type": "code",
   "execution_count": null,
   "id": "492bd65f-ab31-4284-b0ab-210dc94494a4",
   "metadata": {
    "scrolled": true
   },
   "outputs": [],
   "source": [
    "rounded_values = []\n",
    "rating_df['rating'] = rating_df['rating'].astype(float)\n",
    "for row_index, row in rating_df.iterrows():\n",
    "    rounded_row = [round(float(value) * 8) / 8 for value in row]\n",
    "    rounded_values.append(rounded_row)\n",
    "rating_df_rounded = pd.DataFrame(rounded_values, columns=['rounded_rating'])\n",
    "print(rating_df_rounded)"
   ]
  },
  {
   "cell_type": "code",
   "execution_count": null,
   "id": "85bbf4f1-d8bb-45ba-8b2d-6f9d29ce77a1",
   "metadata": {},
   "outputs": [],
   "source": [
    "rating_df_rounded_downsample = rating_df_rounded.sample(n=total_sales_df['total_sales'].size, random_state=42)\n",
    "print(\"Total Sales DataFrame size:\", total_sales_df['total_sales'].size)\n",
    "print(\"Downsampled Rating DataFrame size:\", rating_df_rounded_downsample['rounded_rating'].size)"
   ]
  },
  {
   "cell_type": "code",
   "execution_count": null,
   "id": "70249297-29fd-46cc-8514-8c6b3c7bd0b3",
   "metadata": {},
   "outputs": [],
   "source": [
    "rating_df_rounded_float = rating_df_rounded_downsample.astype(float)\n",
    "rating_df_rounded_half = (rating_df_rounded_float * 8).round() / 8"
   ]
  },
  {
   "cell_type": "code",
   "execution_count": null,
   "id": "16f44dad-32a5-4358-a93c-09c98f77ba84",
   "metadata": {},
   "outputs": [],
   "source": [
    "rating_df_rounded_half['rounded_rating'].describe()"
   ]
  },
  {
   "cell_type": "code",
   "execution_count": null,
   "id": "23030961-cc4d-48f7-8b0c-bdc4ae23807c",
   "metadata": {},
   "outputs": [],
   "source": [
    "plt.figure(figsize=(10, 6))\n",
    "plt.bar(total_sales_df['total_sales'], rating_df_rounded_half['rounded_rating'])\n",
    "plt.xlabel('Total Phone Sales')\n",
    "plt.ylabel('Rounded Average Ratings')\n",
    "yticks = np.linspace(3, 5, num=9)\n",
    "plt.yticks(yticks, fontsize=10)\n",
    "plt.title('Rounded Average Ratings vs Total Phone Sales')\n",
    "plt.grid(False)\n",
    "plt.ylim(3, 5)\n",
    "plt.show()\n"
   ]
  },
  {
   "cell_type": "markdown",
   "id": "e0fdce4f-70a0-4e2a-8a95-6e2a5ddcad21",
   "metadata": {},
   "source": [
    "**Rounded Ratings vs Total Phone Sales**\n",
    "- As we increase the amount of total phone sales, the trend in average rating decreases\n",
    "- To adjust for sample size, the data was downsampled as a fitting method"
   ]
  },
  {
   "cell_type": "markdown",
   "id": "6a7bc657-fa23-4a7c-a8fb-6edf88322eab",
   "metadata": {},
   "source": [
    "# Total Phone Sale Prediction"
   ]
  }
 ],
 "metadata": {
  "kernelspec": {
   "display_name": "Python 3 (ipykernel)",
   "language": "python",
   "name": "python3"
  },
  "language_info": {
   "codemirror_mode": {
    "name": "ipython",
    "version": 3
   },
   "file_extension": ".py",
   "mimetype": "text/x-python",
   "name": "python",
   "nbconvert_exporter": "python",
   "pygments_lexer": "ipython3",
   "version": "3.12.0"
  }
 },
 "nbformat": 4,
 "nbformat_minor": 5
}
